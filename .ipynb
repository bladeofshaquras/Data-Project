{
 "cells": [
  {
   "cell_type": "code",
   "execution_count": null,
   "metadata": {
    "slideshow": {
     "slide_type": "slide"
    }
   },
   "outputs": [],
   "source": [
    "THE ASHES"
   ]
  },
  {
   "cell_type": "code",
   "execution_count": 14,
   "metadata": {
    "slideshow": {
     "slide_type": "notes"
    }
   },
   "outputs": [
    {
     "ename": "SyntaxError",
     "evalue": "invalid syntax (<ipython-input-14-b1e7dd3e4379>, line 1)",
     "output_type": "error",
     "traceback": [
      "\u001b[1;36m  File \u001b[1;32m\"<ipython-input-14-b1e7dd3e4379>\"\u001b[1;36m, line \u001b[1;32m1\u001b[0m\n\u001b[1;33m    The Ashes\u001b[0m\n\u001b[1;37m            ^\u001b[0m\n\u001b[1;31mSyntaxError\u001b[0m\u001b[1;31m:\u001b[0m invalid syntax\n"
     ]
    }
   ],
   "source": [
    "\"The Ashes\n",
    "First started in 1882\n",
    "Aussies have won 33\n",
    "England have won 32\n",
    "Drawn 5\n",
    "Cricket series held every 2 years between Australia and England\n",
    "One of the most iconic cricket series played"
   ]
  },
  {
   "cell_type": "code",
   "execution_count": 8,
   "metadata": {
    "slideshow": {
     "slide_type": "slide"
    }
   },
   "outputs": [],
   "source": [
    "import matplotlib\n",
    "import matplotlib.pyplot as plt\n",
    "import seaborn as sns\n",
    "import numpy as np\n",
    "import pandas as pd\n",
    "import os"
   ]
  },
  {
   "cell_type": "code",
   "execution_count": 9,
   "metadata": {
    "slideshow": {
     "slide_type": "skip"
    }
   },
   "outputs": [],
   "source": [
    "%matplotlib inline\n",
    "plt.rcParams['figure.figsize'] = (20, 10)"
   ]
  },
  {
   "cell_type": "code",
   "execution_count": 10,
   "metadata": {
    "slideshow": {
     "slide_type": "skip"
    }
   },
   "outputs": [],
   "source": [
    "saved_style_state = matplotlib.rcParams.copy() #give us a style state to go back to"
   ]
  },
  {
   "cell_type": "code",
   "execution_count": 11,
   "metadata": {
    "slideshow": {
     "slide_type": "slide"
    }
   },
   "outputs": [
    {
     "name": "stdout",
     "output_type": "stream",
     "text": [
      "loading from file\n",
      "done\n"
     ]
    }
   ],
   "source": [
    "if os.path.isfile(\"Test Bowling.csv\"):\n",
    "    filepath = \"Test Bowling.csv\"\n",
    "    print(\"loading from file\")\n",
    "TestBowling = pd.read_csv(filepath)\n",
    "print(\"done\")"
   ]
  },
  {
   "cell_type": "code",
   "execution_count": 12,
   "metadata": {},
   "outputs": [
    {
     "name": "stdout",
     "output_type": "stream",
     "text": [
      "loading from file\n",
      "done\n"
     ]
    }
   ],
   "source": [
    "if os.path.isfile(\"Test Batting.csv\"):\n",
    "    filepath = \"Test Batting.csv\"\n",
    "    print(\"loading from file\")\n",
    "TestBatting = pd.read_csv(filepath)\n",
    "print(\"done\")"
   ]
  },
  {
   "cell_type": "code",
   "execution_count": 69,
   "metadata": {},
   "outputs": [
    {
     "name": "stdout",
     "output_type": "stream",
     "text": [
      "loading from file\n",
      "done\n"
     ]
    }
   ],
   "source": [
    "if os.path.isfile(\"Test Fielding.csv\"):\n",
    "    filepath = \"Test Fielding.csv\"\n",
    "    print(\"loading from file\")\n",
    "TestFielding = pd.read_csv(filepath)\n",
    "print(\"done\")"
   ]
  },
  {
   "cell_type": "code",
   "execution_count": 51,
   "metadata": {},
   "outputs": [
    {
     "name": "stdout",
     "output_type": "stream",
     "text": [
      "loading from file\n",
      "done\n"
     ]
    }
   ],
   "source": [
    "if os.path.isfile(\"Test Rankings.csv\"):\n",
    "    filepath = \"Test Rankings.csv\"\n",
    "    print(\"loading from file\")\n",
    "TestRanking= pd.read_csv(filepath)\n",
    "print(\"done\")"
   ]
  },
  {
   "cell_type": "code",
   "execution_count": 13,
   "metadata": {
    "slideshow": {
     "slide_type": "skip"
    }
   },
   "outputs": [],
   "source": [
    "#TestBatting.sort_values(by = 'Ducks Scored').head(2)"
   ]
  },
  {
   "cell_type": "code",
   "execution_count": 88,
   "metadata": {
    "slideshow": {
     "slide_type": "slide"
    }
   },
   "outputs": [],
   "source": [
    "                            #Goal:\n",
    "    \n",
    "    #Show u will win this series based off players statistics"
   ]
  },
  {
   "cell_type": "code",
   "execution_count": 60,
   "metadata": {
    "slideshow": {
     "slide_type": "slide"
    }
   },
   "outputs": [
    {
     "data": {
      "text/plain": [
       "Pos                                                                55\n",
       "Country             IndiaEnglandNew ZealandSouth AfricaAustraliaPa...\n",
       "Weighted Matches                                                  342\n",
       "Points                                                            138\n",
       "Rating                                                            873\n",
       "dtype: object"
      ]
     },
     "execution_count": 60,
     "metadata": {},
     "output_type": "execute_result"
    }
   ],
   "source": [
    "TestRanking[\"Points\"]=pd.to_numeric(TestRanking[\"Points\"], errors = 'coerce')\n",
    "TestRanking[\"Rating\"]=pd.to_numeric(TestRanking[\"Rating\"], errors = 'coerce')\n",
    "totalAshesR = TestRanking.sum(axis = 0, skipna = True)\n",
    "totalAshesR"
   ]
  },
  {
   "cell_type": "code",
   "execution_count": 59,
   "metadata": {
    "slideshow": {
     "slide_type": "slide"
    }
   },
   "outputs": [
    {
     "data": {
      "text/plain": [
       "<seaborn.axisgrid.FacetGrid at 0x176590abdd8>"
      ]
     },
     "execution_count": 59,
     "metadata": {},
     "output_type": "execute_result"
    },
    {
     "data": {
      "image/png": "[encoded data removed]",
      "text/plain": [
       "<Figure size 464.6x360 with 1 Axes>"
      ]
     },
     "metadata": {},
     "output_type": "display_data"
    }
   ],
   "source": [
    "g = sns.catplot(x=\"Pos\", y=\"Rating\", hue=\"Country\", data=TestRanking, kind=\"bar\", palette=\"muted\")\n",
    "g.despine(left=True)\n",
    "g.set_ylabels(\"Test Rating\")"
   ]
  },
  {
   "cell_type": "code",
   "execution_count": 73,
   "metadata": {
    "slideshow": {
     "slide_type": "slide"
    }
   },
   "outputs": [],
   "source": [
    "import seaborn as sns\n",
    "sns.set()\n",
    "Ashes2019 = ['TD Paine (2010-2019)', 'PJ Cummins (2011-2019)', 'TM Head (2018-2019)', 'CT Bancroft (2017-2018)', 'MS Harris (2018-2019)', 'JR Hazlewood (2014-2019)', 'UT Khawaja (2011-2019)', 'M Labuschagne (2018-2019)', 'NM Lyon (2011-2019)', 'MR Marsh (2014-2018)', 'JL Pattinson (2011-2016)', 'PM Siddle (2008-2018)', 'SPD Smith (2010-2018)', 'MA Starc (2011-2019)', 'MS Wade (2012-2017)', 'DA Warner (2011-2018)', 'JE Root (2012-2018)', 'BA Stokes (2013-2018)', 'MM Ali (2014-2018)', 'JM Anderson (2003-2018)', 'JM Bairstow (2012-2018)', 'SCJ Broad (2007-2018)', 'RJ Burns (2018-2018)', 'JC Buttler (2014-2018)', 'SM Curran (2018-2018)', 'MJ Leach (2018-2018)', 'CR Woakes (2013-2018)']\n",
    "Ashes = TestBatting.loc[TestBatting['Player'].isin(Ashes2019)]\n",
    "AshesBowling = TestBowling.loc[TestBowling['Player'].isin(Ashes2019)]\n",
    "AshesFielding = TestFielding.loc[TestFielding['Player'].isin(Ashes2019)]"
   ]
  },
  {
   "cell_type": "code",
   "execution_count": 74,
   "metadata": {
    "scrolled": true,
    "slideshow": {
     "slide_type": "skip"
    }
   },
   "outputs": [
    {
     "name": "stderr",
     "output_type": "stream",
     "text": [
      "C:\\Users\\momoj_000\\Anaconda3\\lib\\site-packages\\ipykernel_launcher.py:1: SettingWithCopyWarning: \n",
      "A value is trying to be set on a copy of a slice from a DataFrame.\n",
      "Try using .loc[row_indexer,col_indexer] = value instead\n",
      "\n",
      "See the caveats in the documentation: http://pandas.pydata.org/pandas-docs/stable/indexing.html#indexing-view-versus-copy\n",
      "  \"\"\"Entry point for launching an IPython kernel.\n",
      "C:\\Users\\momoj_000\\Anaconda3\\lib\\site-packages\\ipykernel_launcher.py:2: SettingWithCopyWarning: \n",
      "A value is trying to be set on a copy of a slice from a DataFrame.\n",
      "Try using .loc[row_indexer,col_indexer] = value instead\n",
      "\n",
      "See the caveats in the documentation: http://pandas.pydata.org/pandas-docs/stable/indexing.html#indexing-view-versus-copy\n",
      "  \n",
      "C:\\Users\\momoj_000\\Anaconda3\\lib\\site-packages\\ipykernel_launcher.py:3: SettingWithCopyWarning: \n",
      "A value is trying to be set on a copy of a slice from a DataFrame.\n",
      "Try using .loc[row_indexer,col_indexer] = value instead\n",
      "\n",
      "See the caveats in the documentation: http://pandas.pydata.org/pandas-docs/stable/indexing.html#indexing-view-versus-copy\n",
      "  This is separate from the ipykernel package so we can avoid doing imports until\n",
      "C:\\Users\\momoj_000\\Anaconda3\\lib\\site-packages\\ipykernel_launcher.py:4: SettingWithCopyWarning: \n",
      "A value is trying to be set on a copy of a slice from a DataFrame.\n",
      "Try using .loc[row_indexer,col_indexer] = value instead\n",
      "\n",
      "See the caveats in the documentation: http://pandas.pydata.org/pandas-docs/stable/indexing.html#indexing-view-versus-copy\n",
      "  after removing the cwd from sys.path.\n",
      "C:\\Users\\momoj_000\\Anaconda3\\lib\\site-packages\\ipykernel_launcher.py:5: SettingWithCopyWarning: \n",
      "A value is trying to be set on a copy of a slice from a DataFrame.\n",
      "Try using .loc[row_indexer,col_indexer] = value instead\n",
      "\n",
      "See the caveats in the documentation: http://pandas.pydata.org/pandas-docs/stable/indexing.html#indexing-view-versus-copy\n",
      "  \"\"\"\n"
     ]
    }
   ],
   "source": [
    "AshesBowling[\"Wickets Taken\"]=pd.to_numeric(AshesBowling[\"Wickets Taken\"], errors = 'coerce')\n",
    "AshesBowling[\"Innings Bowled In\"]=pd.to_numeric(AshesBowling[\"Innings Bowled In\"], errors = 'coerce')\n",
    "AshesBowling[\"Economy Rate\"]=pd.to_numeric(AshesBowling[\"Economy Rate\"], errors = 'coerce')\n",
    "AshesBowling[\"Five Wickets In An Innings\"]=pd.to_numeric(AshesBowling[\"Five Wickets In An Innings\"], errors = 'coerce')\n",
    "AshesBowling[\"Bowling Avg\"]=pd.to_numeric(AshesBowling[\"Bowling Avg\"], errors = 'coerce')\n",
    "totalAshesB = AshesBowling.sum(axis = 0, skipna = True)\n",
    "#totalAshesB"
   ]
  },
  {
   "cell_type": "code",
   "execution_count": 75,
   "metadata": {
    "slideshow": {
     "slide_type": "skip"
    }
   },
   "outputs": [
    {
     "name": "stderr",
     "output_type": "stream",
     "text": [
      "C:\\Users\\momoj_000\\Anaconda3\\lib\\site-packages\\ipykernel_launcher.py:2: SettingWithCopyWarning: \n",
      "A value is trying to be set on a copy of a slice from a DataFrame.\n",
      "Try using .loc[row_indexer,col_indexer] = value instead\n",
      "\n",
      "See the caveats in the documentation: http://pandas.pydata.org/pandas-docs/stable/indexing.html#indexing-view-versus-copy\n",
      "  \n",
      "C:\\Users\\momoj_000\\Anaconda3\\lib\\site-packages\\ipykernel_launcher.py:3: SettingWithCopyWarning: \n",
      "A value is trying to be set on a copy of a slice from a DataFrame.\n",
      "Try using .loc[row_indexer,col_indexer] = value instead\n",
      "\n",
      "See the caveats in the documentation: http://pandas.pydata.org/pandas-docs/stable/indexing.html#indexing-view-versus-copy\n",
      "  This is separate from the ipykernel package so we can avoid doing imports until\n",
      "C:\\Users\\momoj_000\\Anaconda3\\lib\\site-packages\\ipykernel_launcher.py:4: SettingWithCopyWarning: \n",
      "A value is trying to be set on a copy of a slice from a DataFrame.\n",
      "Try using .loc[row_indexer,col_indexer] = value instead\n",
      "\n",
      "See the caveats in the documentation: http://pandas.pydata.org/pandas-docs/stable/indexing.html#indexing-view-versus-copy\n",
      "  after removing the cwd from sys.path.\n",
      "C:\\Users\\momoj_000\\Anaconda3\\lib\\site-packages\\ipykernel_launcher.py:5: SettingWithCopyWarning: \n",
      "A value is trying to be set on a copy of a slice from a DataFrame.\n",
      "Try using .loc[row_indexer,col_indexer] = value instead\n",
      "\n",
      "See the caveats in the documentation: http://pandas.pydata.org/pandas-docs/stable/indexing.html#indexing-view-versus-copy\n",
      "  \"\"\"\n"
     ]
    }
   ],
   "source": [
    "#Ashes[\"Batting Avg\"].apply(pd.to_numeric, errors='coerce')\n",
    "Ashes[\"Batting Avg\"]=pd.to_numeric(Ashes[\"Batting Avg\"], errors = 'coerce')\n",
    "Ashes[\"Innings Batted\"]=pd.to_numeric(Ashes[\"Innings Batted\"], errors = 'coerce')\n",
    "Ashes[\"Runs Scored\"]=pd.to_numeric(Ashes[\"Runs Scored\"], errors = 'coerce')\n",
    "Ashes[\"Hundreds Scored\"]=pd.to_numeric(Ashes[\"Hundreds Scored\"], errors = 'coerce')\n",
    "totalAshes = Ashes.sum(axis = 0, skipna = True)\n",
    "#totalAshes"
   ]
  },
  {
   "cell_type": "code",
   "execution_count": 89,
   "metadata": {
    "slideshow": {
     "slide_type": "slide"
    }
   },
   "outputs": [
    {
     "data": {
      "text/html": [
       "<div>\n",
       "<style scoped>\n",
       "    .dataframe tbody tr th:only-of-type {\n",
       "        vertical-align: middle;\n",
       "    }\n",
       "\n",
       "    .dataframe tbody tr th {\n",
       "        vertical-align: top;\n",
       "    }\n",
       "\n",
       "    .dataframe thead th {\n",
       "        text-align: right;\n",
       "    }\n",
       "</style>\n",
       "<table border=\"1\" class=\"dataframe\">\n",
       "  <thead>\n",
       "    <tr style=\"text-align: right;\">\n",
       "      <th></th>\n",
       "      <th>Player</th>\n",
       "      <th>Career Span</th>\n",
       "      <th>Career Start</th>\n",
       "      <th>Career End</th>\n",
       "      <th>Matches Played</th>\n",
       "      <th>Innings Batted</th>\n",
       "      <th>Not Outs</th>\n",
       "      <th>Runs Scored</th>\n",
       "      <th>Highest Innings Score</th>\n",
       "      <th>Highest Innings Score Num</th>\n",
       "      <th>Batting Avg</th>\n",
       "      <th>Hundreds Scored</th>\n",
       "      <th>Scores Of Fifty Or More</th>\n",
       "      <th>Ducks Scored</th>\n",
       "      <th>Country</th>\n",
       "      <th>Player Count</th>\n",
       "      <th>10000+ Runs Scored</th>\n",
       "      <th>50+ Batting Avg</th>\n",
       "    </tr>\n",
       "  </thead>\n",
       "  <tbody>\n",
       "    <tr>\n",
       "      <th>14</th>\n",
       "      <td>JE Root (2012-2018)</td>\n",
       "      <td>2012-2018</td>\n",
       "      <td>2012</td>\n",
       "      <td>2018</td>\n",
       "      <td>77</td>\n",
       "      <td>141</td>\n",
       "      <td>12</td>\n",
       "      <td>6508</td>\n",
       "      <td>254</td>\n",
       "      <td>254</td>\n",
       "      <td>50.44</td>\n",
       "      <td>15</td>\n",
       "      <td>41</td>\n",
       "      <td>5</td>\n",
       "      <td>England</td>\n",
       "      <td>1</td>\n",
       "      <td>0</td>\n",
       "      <td>1</td>\n",
       "    </tr>\n",
       "    <tr>\n",
       "      <th>35</th>\n",
       "      <td>JM Bairstow (2012-2018)</td>\n",
       "      <td>2012-2018</td>\n",
       "      <td>2012</td>\n",
       "      <td>2018</td>\n",
       "      <td>60</td>\n",
       "      <td>104</td>\n",
       "      <td>6</td>\n",
       "      <td>3696</td>\n",
       "      <td>167*</td>\n",
       "      <td>167</td>\n",
       "      <td>37.71</td>\n",
       "      <td>6</td>\n",
       "      <td>19</td>\n",
       "      <td>8</td>\n",
       "      <td>England</td>\n",
       "      <td>1</td>\n",
       "      <td>0</td>\n",
       "      <td>0</td>\n",
       "    </tr>\n",
       "    <tr>\n",
       "      <th>42</th>\n",
       "      <td>SCJ Broad (2007-2018)</td>\n",
       "      <td>2007-2018</td>\n",
       "      <td>2007</td>\n",
       "      <td>2018</td>\n",
       "      <td>124</td>\n",
       "      <td>180</td>\n",
       "      <td>22</td>\n",
       "      <td>3064</td>\n",
       "      <td>169</td>\n",
       "      <td>169</td>\n",
       "      <td>19.39</td>\n",
       "      <td>1</td>\n",
       "      <td>12</td>\n",
       "      <td>30</td>\n",
       "      <td>England</td>\n",
       "      <td>1</td>\n",
       "      <td>0</td>\n",
       "      <td>0</td>\n",
       "    </tr>\n",
       "    <tr>\n",
       "      <th>43</th>\n",
       "      <td>BA Stokes (2013-2018)</td>\n",
       "      <td>2013-2018</td>\n",
       "      <td>2013</td>\n",
       "      <td>2018</td>\n",
       "      <td>49</td>\n",
       "      <td>89</td>\n",
       "      <td>1</td>\n",
       "      <td>2966</td>\n",
       "      <td>258</td>\n",
       "      <td>258</td>\n",
       "      <td>33.70</td>\n",
       "      <td>6</td>\n",
       "      <td>16</td>\n",
       "      <td>11</td>\n",
       "      <td>England</td>\n",
       "      <td>1</td>\n",
       "      <td>0</td>\n",
       "      <td>0</td>\n",
       "    </tr>\n",
       "    <tr>\n",
       "      <th>45</th>\n",
       "      <td>MM Ali (2014-2018)</td>\n",
       "      <td>2014-2018</td>\n",
       "      <td>2014</td>\n",
       "      <td>2018</td>\n",
       "      <td>55</td>\n",
       "      <td>95</td>\n",
       "      <td>8</td>\n",
       "      <td>2692</td>\n",
       "      <td>155*</td>\n",
       "      <td>155</td>\n",
       "      <td>30.94</td>\n",
       "      <td>5</td>\n",
       "      <td>13</td>\n",
       "      <td>10</td>\n",
       "      <td>England</td>\n",
       "      <td>1</td>\n",
       "      <td>0</td>\n",
       "      <td>0</td>\n",
       "    </tr>\n",
       "    <tr>\n",
       "      <th>73</th>\n",
       "      <td>JC Buttler (2014-2018)</td>\n",
       "      <td>2014-2018</td>\n",
       "      <td>2014</td>\n",
       "      <td>2018</td>\n",
       "      <td>28</td>\n",
       "      <td>48</td>\n",
       "      <td>6</td>\n",
       "      <td>1544</td>\n",
       "      <td>106</td>\n",
       "      <td>106</td>\n",
       "      <td>36.76</td>\n",
       "      <td>1</td>\n",
       "      <td>12</td>\n",
       "      <td>4</td>\n",
       "      <td>England</td>\n",
       "      <td>1</td>\n",
       "      <td>0</td>\n",
       "      <td>0</td>\n",
       "    </tr>\n",
       "    <tr>\n",
       "      <th>94</th>\n",
       "      <td>JM Anderson (2003-2018)</td>\n",
       "      <td>2003-2018</td>\n",
       "      <td>2003</td>\n",
       "      <td>2018</td>\n",
       "      <td>145</td>\n",
       "      <td>202</td>\n",
       "      <td>84</td>\n",
       "      <td>1169</td>\n",
       "      <td>81</td>\n",
       "      <td>81</td>\n",
       "      <td>9.90</td>\n",
       "      <td>0</td>\n",
       "      <td>1</td>\n",
       "      <td>24</td>\n",
       "      <td>England</td>\n",
       "      <td>1</td>\n",
       "      <td>0</td>\n",
       "      <td>0</td>\n",
       "    </tr>\n",
       "    <tr>\n",
       "      <th>102</th>\n",
       "      <td>CR Woakes (2013-2018)</td>\n",
       "      <td>2013-2018</td>\n",
       "      <td>2013</td>\n",
       "      <td>2018</td>\n",
       "      <td>26</td>\n",
       "      <td>43</td>\n",
       "      <td>10</td>\n",
       "      <td>1012</td>\n",
       "      <td>137*</td>\n",
       "      <td>137</td>\n",
       "      <td>30.66</td>\n",
       "      <td>1</td>\n",
       "      <td>4</td>\n",
       "      <td>4</td>\n",
       "      <td>England</td>\n",
       "      <td>1</td>\n",
       "      <td>0</td>\n",
       "      <td>0</td>\n",
       "    </tr>\n",
       "    <tr>\n",
       "      <th>204</th>\n",
       "      <td>SM Curran (2018-2018)</td>\n",
       "      <td>2018-2018</td>\n",
       "      <td>2018</td>\n",
       "      <td>2018</td>\n",
       "      <td>7</td>\n",
       "      <td>12</td>\n",
       "      <td>1</td>\n",
       "      <td>404</td>\n",
       "      <td>78</td>\n",
       "      <td>78</td>\n",
       "      <td>36.72</td>\n",
       "      <td>0</td>\n",
       "      <td>3</td>\n",
       "      <td>2</td>\n",
       "      <td>England</td>\n",
       "      <td>1</td>\n",
       "      <td>0</td>\n",
       "      <td>0</td>\n",
       "    </tr>\n",
       "    <tr>\n",
       "      <th>329</th>\n",
       "      <td>RJ Burns (2018-2018)</td>\n",
       "      <td>2018-2018</td>\n",
       "      <td>2018</td>\n",
       "      <td>2018</td>\n",
       "      <td>3</td>\n",
       "      <td>6</td>\n",
       "      <td>0</td>\n",
       "      <td>155</td>\n",
       "      <td>59</td>\n",
       "      <td>59</td>\n",
       "      <td>25.83</td>\n",
       "      <td>0</td>\n",
       "      <td>1</td>\n",
       "      <td>0</td>\n",
       "      <td>England</td>\n",
       "      <td>1</td>\n",
       "      <td>0</td>\n",
       "      <td>0</td>\n",
       "    </tr>\n",
       "    <tr>\n",
       "      <th>469</th>\n",
       "      <td>MJ Leach (2018-2018)</td>\n",
       "      <td>2018-2018</td>\n",
       "      <td>2018</td>\n",
       "      <td>2018</td>\n",
       "      <td>4</td>\n",
       "      <td>7</td>\n",
       "      <td>1</td>\n",
       "      <td>55</td>\n",
       "      <td>16</td>\n",
       "      <td>16</td>\n",
       "      <td>9.16</td>\n",
       "      <td>0</td>\n",
       "      <td>0</td>\n",
       "      <td>1</td>\n",
       "      <td>England</td>\n",
       "      <td>1</td>\n",
       "      <td>0</td>\n",
       "      <td>0</td>\n",
       "    </tr>\n",
       "  </tbody>\n",
       "</table>\n",
       "</div>"
      ],
      "text/plain": [
       "                      Player Career Span  Career Start  Career End  \\\n",
       "14       JE Root (2012-2018)   2012-2018          2012        2018   \n",
       "35   JM Bairstow (2012-2018)   2012-2018          2012        2018   \n",
       "42     SCJ Broad (2007-2018)   2007-2018          2007        2018   \n",
       "43     BA Stokes (2013-2018)   2013-2018          2013        2018   \n",
       "45        MM Ali (2014-2018)   2014-2018          2014        2018   \n",
       "73    JC Buttler (2014-2018)   2014-2018          2014        2018   \n",
       "94   JM Anderson (2003-2018)   2003-2018          2003        2018   \n",
       "102    CR Woakes (2013-2018)   2013-2018          2013        2018   \n",
       "204    SM Curran (2018-2018)   2018-2018          2018        2018   \n",
       "329     RJ Burns (2018-2018)   2018-2018          2018        2018   \n",
       "469     MJ Leach (2018-2018)   2018-2018          2018        2018   \n",
       "\n",
       "     Matches Played Innings Batted Not Outs Runs Scored Highest Innings Score  \\\n",
       "14               77            141       12        6508                   254   \n",
       "35               60            104        6        3696                  167*   \n",
       "42              124            180       22        3064                   169   \n",
       "43               49             89        1        2966                   258   \n",
       "45               55             95        8        2692                  155*   \n",
       "73               28             48        6        1544                   106   \n",
       "94              145            202       84        1169                    81   \n",
       "102              26             43       10        1012                  137*   \n",
       "204               7             12        1         404                    78   \n",
       "329               3              6        0         155                    59   \n",
       "469               4              7        1          55                    16   \n",
       "\n",
       "    Highest Innings Score Num Batting Avg Hundreds Scored  \\\n",
       "14                        254       50.44              15   \n",
       "35                        167       37.71               6   \n",
       "42                        169       19.39               1   \n",
       "43                        258       33.70               6   \n",
       "45                        155       30.94               5   \n",
       "73                        106       36.76               1   \n",
       "94                         81        9.90               0   \n",
       "102                       137       30.66               1   \n",
       "204                        78       36.72               0   \n",
       "329                        59       25.83               0   \n",
       "469                        16        9.16               0   \n",
       "\n",
       "    Scores Of Fifty Or More Ducks Scored  Country  Player Count  \\\n",
       "14                       41            5  England             1   \n",
       "35                       19            8  England             1   \n",
       "42                       12           30  England             1   \n",
       "43                       16           11  England             1   \n",
       "45                       13           10  England             1   \n",
       "73                       12            4  England             1   \n",
       "94                        1           24  England             1   \n",
       "102                       4            4  England             1   \n",
       "204                       3            2  England             1   \n",
       "329                       1            0  England             1   \n",
       "469                       0            1  England             1   \n",
       "\n",
       "     10000+ Runs Scored  50+ Batting Avg  \n",
       "14                    0                1  \n",
       "35                    0                0  \n",
       "42                    0                0  \n",
       "43                    0                0  \n",
       "45                    0                0  \n",
       "73                    0                0  \n",
       "94                    0                0  \n",
       "102                   0                0  \n",
       "204                   0                0  \n",
       "329                   0                0  \n",
       "469                   0                0  "
      ]
     },
     "execution_count": 89,
     "metadata": {},
     "output_type": "execute_result"
    }
   ],
   "source": [
    "EngAshes = ['JE Root (2012-2018)', 'BA Stokes (2013-2018)', 'MM Ali (2014-2018)', 'JM Anderson (2003-2018)', 'JM Bairstow (2012-2018)', 'SCJ Broad (2007-2018)', 'RJ Burns (2018-2018)', 'JC Buttler (2014-2018)', 'SM Curran (2018-2018)', 'MJ Leach (2018-2018)', 'CR Woakes (2013-2018)']\n",
    "EnglandPeople = TestBatting[TestBatting['Country'] == 'England']\n",
    "Eng2019 = EnglandPeople.loc[EnglandPeople['Player'].isin(EngAshes)]\n",
    "Eng2019"
   ]
  },
  {
   "cell_type": "code",
   "execution_count": 77,
   "metadata": {
    "slideshow": {
     "slide_type": "skip"
    }
   },
   "outputs": [
    {
     "name": "stderr",
     "output_type": "stream",
     "text": [
      "C:\\Users\\momoj_000\\Anaconda3\\lib\\site-packages\\ipykernel_launcher.py:1: SettingWithCopyWarning: \n",
      "A value is trying to be set on a copy of a slice from a DataFrame.\n",
      "Try using .loc[row_indexer,col_indexer] = value instead\n",
      "\n",
      "See the caveats in the documentation: http://pandas.pydata.org/pandas-docs/stable/indexing.html#indexing-view-versus-copy\n",
      "  \"\"\"Entry point for launching an IPython kernel.\n",
      "C:\\Users\\momoj_000\\Anaconda3\\lib\\site-packages\\ipykernel_launcher.py:2: SettingWithCopyWarning: \n",
      "A value is trying to be set on a copy of a slice from a DataFrame.\n",
      "Try using .loc[row_indexer,col_indexer] = value instead\n",
      "\n",
      "See the caveats in the documentation: http://pandas.pydata.org/pandas-docs/stable/indexing.html#indexing-view-versus-copy\n",
      "  \n",
      "C:\\Users\\momoj_000\\Anaconda3\\lib\\site-packages\\ipykernel_launcher.py:3: SettingWithCopyWarning: \n",
      "A value is trying to be set on a copy of a slice from a DataFrame.\n",
      "Try using .loc[row_indexer,col_indexer] = value instead\n",
      "\n",
      "See the caveats in the documentation: http://pandas.pydata.org/pandas-docs/stable/indexing.html#indexing-view-versus-copy\n",
      "  This is separate from the ipykernel package so we can avoid doing imports until\n",
      "C:\\Users\\momoj_000\\Anaconda3\\lib\\site-packages\\ipykernel_launcher.py:4: SettingWithCopyWarning: \n",
      "A value is trying to be set on a copy of a slice from a DataFrame.\n",
      "Try using .loc[row_indexer,col_indexer] = value instead\n",
      "\n",
      "See the caveats in the documentation: http://pandas.pydata.org/pandas-docs/stable/indexing.html#indexing-view-versus-copy\n",
      "  after removing the cwd from sys.path.\n"
     ]
    },
    {
     "data": {
      "text/plain": [
       "Player                       JE Root (2012-2018)JM Bairstow (2012-2018)SCJ ...\n",
       "Career Span                  2012-20182012-20182007-20182013-20182014-20182...\n",
       "Career Start                                                             22142\n",
       "Career End                                                               22198\n",
       "Matches Played                                                             578\n",
       "Innings Batted                                                             927\n",
       "Not Outs                                                       126221868410101\n",
       "Runs Scored                                                              23265\n",
       "Highest Innings Score                         254167*169258155*10681137*785916\n",
       "Highest Innings Score Num                        25416716925815510681137785916\n",
       "Batting Avg                                                             321.21\n",
       "Hundreds Scored                                                             35\n",
       "Scores Of Fifty Or More                                      41191216131214310\n",
       "Ducks Scored                                                   583011104244201\n",
       "Country                      EnglandEnglandEnglandEnglandEnglandEnglandEngl...\n",
       "Player Count                                                                11\n",
       "10000+ Runs Scored                                                           0\n",
       "50+ Batting Avg                                                              1\n",
       "dtype: object"
      ]
     },
     "execution_count": 77,
     "metadata": {},
     "output_type": "execute_result"
    }
   ],
   "source": [
    "Eng2019[\"Batting Avg\"]=pd.to_numeric(Eng2019[\"Batting Avg\"], errors = 'coerce')\n",
    "Eng2019[\"Innings Batted\"]=pd.to_numeric(Eng2019[\"Innings Batted\"], errors = 'coerce')\n",
    "Eng2019[\"Runs Scored\"]=pd.to_numeric(Eng2019[\"Runs Scored\"], errors = 'coerce')\n",
    "Eng2019[\"Hundreds Scored\"]=pd.to_numeric(Eng2019[\"Hundreds Scored\"], errors = 'coerce')\n",
    "totalEngland = Eng2019.sum(axis = 0, skipna = True)\n",
    "totalEngland"
   ]
  },
  {
   "cell_type": "code",
   "execution_count": 90,
   "metadata": {
    "slideshow": {
     "slide_type": "slide"
    }
   },
   "outputs": [
    {
     "data": {
      "text/html": [
       "<div>\n",
       "<style scoped>\n",
       "    .dataframe tbody tr th:only-of-type {\n",
       "        vertical-align: middle;\n",
       "    }\n",
       "\n",
       "    .dataframe tbody tr th {\n",
       "        vertical-align: top;\n",
       "    }\n",
       "\n",
       "    .dataframe thead th {\n",
       "        text-align: right;\n",
       "    }\n",
       "</style>\n",
       "<table border=\"1\" class=\"dataframe\">\n",
       "  <thead>\n",
       "    <tr style=\"text-align: right;\">\n",
       "      <th></th>\n",
       "      <th>Player</th>\n",
       "      <th>Career Span</th>\n",
       "      <th>Career Start</th>\n",
       "      <th>Career End</th>\n",
       "      <th>Matches Played</th>\n",
       "      <th>Innings Batted</th>\n",
       "      <th>Not Outs</th>\n",
       "      <th>Runs Scored</th>\n",
       "      <th>Highest Innings Score</th>\n",
       "      <th>Highest Innings Score Num</th>\n",
       "      <th>Batting Avg</th>\n",
       "      <th>Hundreds Scored</th>\n",
       "      <th>Scores Of Fifty Or More</th>\n",
       "      <th>Ducks Scored</th>\n",
       "      <th>Country</th>\n",
       "      <th>Player Count</th>\n",
       "      <th>10000+ Runs Scored</th>\n",
       "      <th>50+ Batting Avg</th>\n",
       "    </tr>\n",
       "  </thead>\n",
       "  <tbody>\n",
       "    <tr>\n",
       "      <th>700</th>\n",
       "      <td>DA Warner (2011-2018)</td>\n",
       "      <td>2011-2018</td>\n",
       "      <td>2011</td>\n",
       "      <td>2018</td>\n",
       "      <td>74</td>\n",
       "      <td>137</td>\n",
       "      <td>5</td>\n",
       "      <td>6363</td>\n",
       "      <td>253</td>\n",
       "      <td>253</td>\n",
       "      <td>48.20</td>\n",
       "      <td>21</td>\n",
       "      <td>29</td>\n",
       "      <td>6</td>\n",
       "      <td>Australia</td>\n",
       "      <td>1</td>\n",
       "      <td>0</td>\n",
       "      <td>0</td>\n",
       "    </tr>\n",
       "    <tr>\n",
       "      <th>702</th>\n",
       "      <td>SPD Smith (2010-2018)</td>\n",
       "      <td>2010-2018</td>\n",
       "      <td>2010</td>\n",
       "      <td>2018</td>\n",
       "      <td>64</td>\n",
       "      <td>117</td>\n",
       "      <td>16</td>\n",
       "      <td>6199</td>\n",
       "      <td>239</td>\n",
       "      <td>239</td>\n",
       "      <td>61.37</td>\n",
       "      <td>23</td>\n",
       "      <td>24</td>\n",
       "      <td>4</td>\n",
       "      <td>Australia</td>\n",
       "      <td>1</td>\n",
       "      <td>0</td>\n",
       "      <td>1</td>\n",
       "    </tr>\n",
       "    <tr>\n",
       "      <th>733</th>\n",
       "      <td>UT Khawaja (2011-2019)</td>\n",
       "      <td>2011-2019</td>\n",
       "      <td>2011</td>\n",
       "      <td>2019</td>\n",
       "      <td>39</td>\n",
       "      <td>68</td>\n",
       "      <td>5</td>\n",
       "      <td>2653</td>\n",
       "      <td>174</td>\n",
       "      <td>174</td>\n",
       "      <td>42.11</td>\n",
       "      <td>7</td>\n",
       "      <td>14</td>\n",
       "      <td>3</td>\n",
       "      <td>Australia</td>\n",
       "      <td>1</td>\n",
       "      <td>0</td>\n",
       "      <td>0</td>\n",
       "    </tr>\n",
       "    <tr>\n",
       "      <th>768</th>\n",
       "      <td>MA Starc (2011-2019)</td>\n",
       "      <td>2011-2019</td>\n",
       "      <td>2011</td>\n",
       "      <td>2019</td>\n",
       "      <td>49</td>\n",
       "      <td>77</td>\n",
       "      <td>14</td>\n",
       "      <td>1351</td>\n",
       "      <td>99</td>\n",
       "      <td>99</td>\n",
       "      <td>21.44</td>\n",
       "      <td>0</td>\n",
       "      <td>9</td>\n",
       "      <td>11</td>\n",
       "      <td>Australia</td>\n",
       "      <td>1</td>\n",
       "      <td>0</td>\n",
       "      <td>0</td>\n",
       "    </tr>\n",
       "    <tr>\n",
       "      <th>775</th>\n",
       "      <td>MR Marsh (2014-2018)</td>\n",
       "      <td>2014-2018</td>\n",
       "      <td>2014</td>\n",
       "      <td>2018</td>\n",
       "      <td>31</td>\n",
       "      <td>53</td>\n",
       "      <td>5</td>\n",
       "      <td>1219</td>\n",
       "      <td>181</td>\n",
       "      <td>181</td>\n",
       "      <td>25.39</td>\n",
       "      <td>2</td>\n",
       "      <td>3</td>\n",
       "      <td>6</td>\n",
       "      <td>Australia</td>\n",
       "      <td>1</td>\n",
       "      <td>0</td>\n",
       "      <td>0</td>\n",
       "    </tr>\n",
       "    <tr>\n",
       "      <th>785</th>\n",
       "      <td>PM Siddle (2008-2018)</td>\n",
       "      <td>2008-2018</td>\n",
       "      <td>2008</td>\n",
       "      <td>2018</td>\n",
       "      <td>64</td>\n",
       "      <td>90</td>\n",
       "      <td>14</td>\n",
       "      <td>1080</td>\n",
       "      <td>51</td>\n",
       "      <td>51</td>\n",
       "      <td>14.21</td>\n",
       "      <td>0</td>\n",
       "      <td>2</td>\n",
       "      <td>17</td>\n",
       "      <td>Australia</td>\n",
       "      <td>1</td>\n",
       "      <td>0</td>\n",
       "      <td>0</td>\n",
       "    </tr>\n",
       "    <tr>\n",
       "      <th>797</th>\n",
       "      <td>TD Paine (2010-2019)</td>\n",
       "      <td>2010-2019</td>\n",
       "      <td>2010</td>\n",
       "      <td>2019</td>\n",
       "      <td>19</td>\n",
       "      <td>33</td>\n",
       "      <td>6</td>\n",
       "      <td>939</td>\n",
       "      <td>92</td>\n",
       "      <td>92</td>\n",
       "      <td>34.77</td>\n",
       "      <td>0</td>\n",
       "      <td>5</td>\n",
       "      <td>1</td>\n",
       "      <td>Australia</td>\n",
       "      <td>1</td>\n",
       "      <td>0</td>\n",
       "      <td>0</td>\n",
       "    </tr>\n",
       "    <tr>\n",
       "      <th>799</th>\n",
       "      <td>NM Lyon (2011-2019)</td>\n",
       "      <td>2011-2019</td>\n",
       "      <td>2011</td>\n",
       "      <td>2019</td>\n",
       "      <td>84</td>\n",
       "      <td>110</td>\n",
       "      <td>34</td>\n",
       "      <td>922</td>\n",
       "      <td>47</td>\n",
       "      <td>47</td>\n",
       "      <td>12.13</td>\n",
       "      <td>0</td>\n",
       "      <td>0</td>\n",
       "      <td>15</td>\n",
       "      <td>Australia</td>\n",
       "      <td>1</td>\n",
       "      <td>0</td>\n",
       "      <td>0</td>\n",
       "    </tr>\n",
       "    <tr>\n",
       "      <th>809</th>\n",
       "      <td>MS Wade (2012-2017)</td>\n",
       "      <td>2012-2017</td>\n",
       "      <td>2012</td>\n",
       "      <td>2017</td>\n",
       "      <td>22</td>\n",
       "      <td>38</td>\n",
       "      <td>7</td>\n",
       "      <td>886</td>\n",
       "      <td>106</td>\n",
       "      <td>106</td>\n",
       "      <td>28.58</td>\n",
       "      <td>2</td>\n",
       "      <td>4</td>\n",
       "      <td>1</td>\n",
       "      <td>Australia</td>\n",
       "      <td>1</td>\n",
       "      <td>0</td>\n",
       "      <td>0</td>\n",
       "    </tr>\n",
       "    <tr>\n",
       "      <th>837</th>\n",
       "      <td>PJ Cummins (2011-2019)</td>\n",
       "      <td>2011-2019</td>\n",
       "      <td>2011</td>\n",
       "      <td>2019</td>\n",
       "      <td>18</td>\n",
       "      <td>29</td>\n",
       "      <td>4</td>\n",
       "      <td>528</td>\n",
       "      <td>63</td>\n",
       "      <td>63</td>\n",
       "      <td>21.12</td>\n",
       "      <td>0</td>\n",
       "      <td>2</td>\n",
       "      <td>3</td>\n",
       "      <td>Australia</td>\n",
       "      <td>1</td>\n",
       "      <td>0</td>\n",
       "      <td>0</td>\n",
       "    </tr>\n",
       "    <tr>\n",
       "      <th>865</th>\n",
       "      <td>CT Bancroft (2017-2018)</td>\n",
       "      <td>2017-2018</td>\n",
       "      <td>2017</td>\n",
       "      <td>2018</td>\n",
       "      <td>8</td>\n",
       "      <td>14</td>\n",
       "      <td>1</td>\n",
       "      <td>402</td>\n",
       "      <td>82*</td>\n",
       "      <td>82</td>\n",
       "      <td>30.92</td>\n",
       "      <td>0</td>\n",
       "      <td>3</td>\n",
       "      <td>1</td>\n",
       "      <td>Australia</td>\n",
       "      <td>1</td>\n",
       "      <td>0</td>\n",
       "      <td>0</td>\n",
       "    </tr>\n",
       "    <tr>\n",
       "      <th>872</th>\n",
       "      <td>JR Hazlewood (2014-2019)</td>\n",
       "      <td>2014-2019</td>\n",
       "      <td>2014</td>\n",
       "      <td>2019</td>\n",
       "      <td>44</td>\n",
       "      <td>55</td>\n",
       "      <td>24</td>\n",
       "      <td>388</td>\n",
       "      <td>39</td>\n",
       "      <td>39</td>\n",
       "      <td>12.51</td>\n",
       "      <td>0</td>\n",
       "      <td>0</td>\n",
       "      <td>9</td>\n",
       "      <td>Australia</td>\n",
       "      <td>1</td>\n",
       "      <td>0</td>\n",
       "      <td>0</td>\n",
       "    </tr>\n",
       "    <tr>\n",
       "      <th>876</th>\n",
       "      <td>TM Head (2018-2019)</td>\n",
       "      <td>2018-2019</td>\n",
       "      <td>2018</td>\n",
       "      <td>2019</td>\n",
       "      <td>6</td>\n",
       "      <td>11</td>\n",
       "      <td>0</td>\n",
       "      <td>359</td>\n",
       "      <td>72</td>\n",
       "      <td>72</td>\n",
       "      <td>32.63</td>\n",
       "      <td>0</td>\n",
       "      <td>3</td>\n",
       "      <td>1</td>\n",
       "      <td>Australia</td>\n",
       "      <td>1</td>\n",
       "      <td>0</td>\n",
       "      <td>0</td>\n",
       "    </tr>\n",
       "    <tr>\n",
       "      <th>887</th>\n",
       "      <td>JL Pattinson (2011-2016)</td>\n",
       "      <td>2011-2016</td>\n",
       "      <td>2011</td>\n",
       "      <td>2016</td>\n",
       "      <td>17</td>\n",
       "      <td>19</td>\n",
       "      <td>7</td>\n",
       "      <td>332</td>\n",
       "      <td>42</td>\n",
       "      <td>42</td>\n",
       "      <td>27.66</td>\n",
       "      <td>0</td>\n",
       "      <td>0</td>\n",
       "      <td>1</td>\n",
       "      <td>Australia</td>\n",
       "      <td>1</td>\n",
       "      <td>0</td>\n",
       "      <td>0</td>\n",
       "    </tr>\n",
       "    <tr>\n",
       "      <th>899</th>\n",
       "      <td>MS Harris (2018-2019)</td>\n",
       "      <td>2018-2019</td>\n",
       "      <td>2018</td>\n",
       "      <td>2019</td>\n",
       "      <td>4</td>\n",
       "      <td>8</td>\n",
       "      <td>1</td>\n",
       "      <td>258</td>\n",
       "      <td>79</td>\n",
       "      <td>79</td>\n",
       "      <td>36.85</td>\n",
       "      <td>0</td>\n",
       "      <td>2</td>\n",
       "      <td>0</td>\n",
       "      <td>Australia</td>\n",
       "      <td>1</td>\n",
       "      <td>0</td>\n",
       "      <td>0</td>\n",
       "    </tr>\n",
       "    <tr>\n",
       "      <th>959</th>\n",
       "      <td>M Labuschagne (2018-2019)</td>\n",
       "      <td>2018-2019</td>\n",
       "      <td>2018</td>\n",
       "      <td>2019</td>\n",
       "      <td>3</td>\n",
       "      <td>5</td>\n",
       "      <td>0</td>\n",
       "      <td>119</td>\n",
       "      <td>43</td>\n",
       "      <td>43</td>\n",
       "      <td>23.80</td>\n",
       "      <td>0</td>\n",
       "      <td>0</td>\n",
       "      <td>1</td>\n",
       "      <td>Australia</td>\n",
       "      <td>1</td>\n",
       "      <td>0</td>\n",
       "      <td>0</td>\n",
       "    </tr>\n",
       "  </tbody>\n",
       "</table>\n",
       "</div>"
      ],
      "text/plain": [
       "                        Player Career Span  Career Start  Career End  \\\n",
       "700      DA Warner (2011-2018)   2011-2018          2011        2018   \n",
       "702      SPD Smith (2010-2018)   2010-2018          2010        2018   \n",
       "733     UT Khawaja (2011-2019)   2011-2019          2011        2019   \n",
       "768       MA Starc (2011-2019)   2011-2019          2011        2019   \n",
       "775       MR Marsh (2014-2018)   2014-2018          2014        2018   \n",
       "785      PM Siddle (2008-2018)   2008-2018          2008        2018   \n",
       "797       TD Paine (2010-2019)   2010-2019          2010        2019   \n",
       "799        NM Lyon (2011-2019)   2011-2019          2011        2019   \n",
       "809        MS Wade (2012-2017)   2012-2017          2012        2017   \n",
       "837     PJ Cummins (2011-2019)   2011-2019          2011        2019   \n",
       "865    CT Bancroft (2017-2018)   2017-2018          2017        2018   \n",
       "872   JR Hazlewood (2014-2019)   2014-2019          2014        2019   \n",
       "876        TM Head (2018-2019)   2018-2019          2018        2019   \n",
       "887   JL Pattinson (2011-2016)   2011-2016          2011        2016   \n",
       "899      MS Harris (2018-2019)   2018-2019          2018        2019   \n",
       "959  M Labuschagne (2018-2019)   2018-2019          2018        2019   \n",
       "\n",
       "     Matches Played Innings Batted Not Outs Runs Scored Highest Innings Score  \\\n",
       "700              74            137        5        6363                   253   \n",
       "702              64            117       16        6199                   239   \n",
       "733              39             68        5        2653                   174   \n",
       "768              49             77       14        1351                    99   \n",
       "775              31             53        5        1219                   181   \n",
       "785              64             90       14        1080                    51   \n",
       "797              19             33        6         939                    92   \n",
       "799              84            110       34         922                    47   \n",
       "809              22             38        7         886                   106   \n",
       "837              18             29        4         528                    63   \n",
       "865               8             14        1         402                   82*   \n",
       "872              44             55       24         388                    39   \n",
       "876               6             11        0         359                    72   \n",
       "887              17             19        7         332                    42   \n",
       "899               4              8        1         258                    79   \n",
       "959               3              5        0         119                    43   \n",
       "\n",
       "    Highest Innings Score Num Batting Avg Hundreds Scored  \\\n",
       "700                       253       48.20              21   \n",
       "702                       239       61.37              23   \n",
       "733                       174       42.11               7   \n",
       "768                        99       21.44               0   \n",
       "775                       181       25.39               2   \n",
       "785                        51       14.21               0   \n",
       "797                        92       34.77               0   \n",
       "799                        47       12.13               0   \n",
       "809                       106       28.58               2   \n",
       "837                        63       21.12               0   \n",
       "865                        82       30.92               0   \n",
       "872                        39       12.51               0   \n",
       "876                        72       32.63               0   \n",
       "887                        42       27.66               0   \n",
       "899                        79       36.85               0   \n",
       "959                        43       23.80               0   \n",
       "\n",
       "    Scores Of Fifty Or More Ducks Scored    Country  Player Count  \\\n",
       "700                      29            6  Australia             1   \n",
       "702                      24            4  Australia             1   \n",
       "733                      14            3  Australia             1   \n",
       "768                       9           11  Australia             1   \n",
       "775                       3            6  Australia             1   \n",
       "785                       2           17  Australia             1   \n",
       "797                       5            1  Australia             1   \n",
       "799                       0           15  Australia             1   \n",
       "809                       4            1  Australia             1   \n",
       "837                       2            3  Australia             1   \n",
       "865                       3            1  Australia             1   \n",
       "872                       0            9  Australia             1   \n",
       "876                       3            1  Australia             1   \n",
       "887                       0            1  Australia             1   \n",
       "899                       2            0  Australia             1   \n",
       "959                       0            1  Australia             1   \n",
       "\n",
       "     10000+ Runs Scored  50+ Batting Avg  \n",
       "700                   0                0  \n",
       "702                   0                1  \n",
       "733                   0                0  \n",
       "768                   0                0  \n",
       "775                   0                0  \n",
       "785                   0                0  \n",
       "797                   0                0  \n",
       "799                   0                0  \n",
       "809                   0                0  \n",
       "837                   0                0  \n",
       "865                   0                0  \n",
       "872                   0                0  \n",
       "876                   0                0  \n",
       "887                   0                0  \n",
       "899                   0                0  \n",
       "959                   0                0  "
      ]
     },
     "execution_count": 90,
     "metadata": {},
     "output_type": "execute_result"
    }
   ],
   "source": [
    "AusAshes = ['TD Paine (2010-2019)', 'PJ Cummins (2011-2019)', 'TM Head (2018-2019)', 'CT Bancroft (2017-2018)', 'MS Harris (2018-2019)', 'JR Hazlewood (2014-2019)', 'UT Khawaja (2011-2019)', 'M Labuschagne (2018-2019)', 'NM Lyon (2011-2019)', 'MR Marsh (2014-2018)', 'JL Pattinson (2011-2016)', 'PM Siddle (2008-2018)', 'SPD Smith (2010-2018)', 'MA Starc (2011-2019)', 'MS Wade (2012-2017)', 'DA Warner (2011-2018)']\n",
    "AusPeople = TestBatting[TestBatting['Country'] == 'Australia']\n",
    "Aus2019 = AusPeople.loc[AusPeople['Player'].isin(AusAshes)]\n",
    "Aus2019"
   ]
  },
  {
   "cell_type": "code",
   "execution_count": 79,
   "metadata": {
    "slideshow": {
     "slide_type": "skip"
    }
   },
   "outputs": [
    {
     "name": "stderr",
     "output_type": "stream",
     "text": [
      "C:\\Users\\momoj_000\\Anaconda3\\lib\\site-packages\\ipykernel_launcher.py:1: SettingWithCopyWarning: \n",
      "A value is trying to be set on a copy of a slice from a DataFrame.\n",
      "Try using .loc[row_indexer,col_indexer] = value instead\n",
      "\n",
      "See the caveats in the documentation: http://pandas.pydata.org/pandas-docs/stable/indexing.html#indexing-view-versus-copy\n",
      "  \"\"\"Entry point for launching an IPython kernel.\n",
      "C:\\Users\\momoj_000\\Anaconda3\\lib\\site-packages\\ipykernel_launcher.py:2: SettingWithCopyWarning: \n",
      "A value is trying to be set on a copy of a slice from a DataFrame.\n",
      "Try using .loc[row_indexer,col_indexer] = value instead\n",
      "\n",
      "See the caveats in the documentation: http://pandas.pydata.org/pandas-docs/stable/indexing.html#indexing-view-versus-copy\n",
      "  \n",
      "C:\\Users\\momoj_000\\Anaconda3\\lib\\site-packages\\ipykernel_launcher.py:3: SettingWithCopyWarning: \n",
      "A value is trying to be set on a copy of a slice from a DataFrame.\n",
      "Try using .loc[row_indexer,col_indexer] = value instead\n",
      "\n",
      "See the caveats in the documentation: http://pandas.pydata.org/pandas-docs/stable/indexing.html#indexing-view-versus-copy\n",
      "  This is separate from the ipykernel package so we can avoid doing imports until\n",
      "C:\\Users\\momoj_000\\Anaconda3\\lib\\site-packages\\ipykernel_launcher.py:4: SettingWithCopyWarning: \n",
      "A value is trying to be set on a copy of a slice from a DataFrame.\n",
      "Try using .loc[row_indexer,col_indexer] = value instead\n",
      "\n",
      "See the caveats in the documentation: http://pandas.pydata.org/pandas-docs/stable/indexing.html#indexing-view-versus-copy\n",
      "  after removing the cwd from sys.path.\n"
     ]
    },
    {
     "data": {
      "text/plain": [
       "Player                       DA Warner (2011-2018)SPD Smith (2010-2018)UT K...\n",
       "Career Span                  2011-20182010-20182011-20192011-20192014-20182...\n",
       "Career Start                                                             32205\n",
       "Career End                                                               32294\n",
       "Matches Played                                                             546\n",
       "Innings Batted                                                             864\n",
       "Not Outs                                                 516514514634741240710\n",
       "Runs Scored                                                              23998\n",
       "Highest Innings Score                   253239174991815192471066382*3972427943\n",
       "Highest Innings Score Num                2532391749918151924710663823972427943\n",
       "Batting Avg                                                             473.69\n",
       "Hundreds Scored                                                             55\n",
       "Scores Of Fifty Or More                                    2924149325042303020\n",
       "Ducks Scored                                               6431161711513191101\n",
       "Country                      AustraliaAustraliaAustraliaAustraliaAustraliaA...\n",
       "Player Count                                                                16\n",
       "10000+ Runs Scored                                                           0\n",
       "50+ Batting Avg                                                              1\n",
       "dtype: object"
      ]
     },
     "execution_count": 79,
     "metadata": {},
     "output_type": "execute_result"
    }
   ],
   "source": [
    "Aus2019[\"Batting Avg\"]=pd.to_numeric(Aus2019[\"Batting Avg\"], errors = 'coerce')\n",
    "Aus2019[\"Innings Batted\"]=pd.to_numeric(Aus2019[\"Innings Batted\"], errors = 'coerce')\n",
    "Aus2019[\"Runs Scored\"]=pd.to_numeric(Aus2019[\"Runs Scored\"], errors = 'coerce')\n",
    "Aus2019[\"Hundreds Scored\"]=pd.to_numeric(Aus2019[\"Hundreds Scored\"], errors = 'coerce')\n",
    "totalAus = Aus2019.sum(axis = 0, skipna = True)\n",
    "totalAus"
   ]
  },
  {
   "cell_type": "code",
   "execution_count": 80,
   "metadata": {
    "scrolled": true,
    "slideshow": {
     "slide_type": "slide"
    }
   },
   "outputs": [
    {
     "data": {
      "image/png": "[encoded data removed]",
      "text/plain": [
       "<Figure size 1440x720 with 1 Axes>"
      ]
     },
     "metadata": {},
     "output_type": "display_data"
    }
   ],
   "source": [
    "sns.set()\n",
    "sns.scatterplot('Hundreds Scored', 'Runs Scored', size = \"Matches Played\", hue=\"Country\", sizes=(40, 400), alpha=0.99, palette=\"muted\", data = Ashes);"
   ]
  },
  {
   "cell_type": "code",
   "execution_count": 81,
   "metadata": {
    "slideshow": {
     "slide_type": "slide"
    }
   },
   "outputs": [
    {
     "data": {
      "image/png": "[encoded data removed]",
      "text/plain": [
       "<Figure size 360x360 with 1 Axes>"
      ]
     },
     "metadata": {},
     "output_type": "display_data"
    }
   ],
   "source": [
    "sns.catplot(x='Country', y='Batting Avg', data = Ashes);"
   ]
  },
  {
   "cell_type": "code",
   "execution_count": 82,
   "metadata": {
    "slideshow": {
     "slide_type": "slide"
    }
   },
   "outputs": [
    {
     "data": {
      "image/png": "[encoded data removed]",
      "text/plain": [
       "<Figure size 442.6x360 with 1 Axes>"
      ]
     },
     "metadata": {},
     "output_type": "display_data"
    }
   ],
   "source": [
    "sns.catplot(x=\"Innings Batted\", y=\"Batting Avg\", hue= 'Country', data=Ashes);"
   ]
  },
  {
   "cell_type": "code",
   "execution_count": 83,
   "metadata": {
    "slideshow": {
     "slide_type": "slide"
    }
   },
   "outputs": [
    {
     "data": {
      "image/png": "[encoded data removed]",
      "text/plain": [
       "<Figure size 1440x720 with 1 Axes>"
      ]
     },
     "metadata": {},
     "output_type": "display_data"
    }
   ],
   "source": [
    "sns.set()\n",
    "sns.scatterplot('Five Wickets In An Innings', 'Wickets Taken', size = \"Innings Bowled In\", hue=\"Country\", sizes=(40, 400), alpha=0.99, palette=\"muted\", data = AshesBowling);"
   ]
  },
  {
   "cell_type": "code",
   "execution_count": 84,
   "metadata": {
    "slideshow": {
     "slide_type": "slide"
    }
   },
   "outputs": [
    {
     "data": {
      "image/png": "[encoded data removed]",
      "text/plain": [
       "<Figure size 360x360 with 1 Axes>"
      ]
     },
     "metadata": {},
     "output_type": "display_data"
    }
   ],
   "source": [
    "sns.catplot(x='Country', y='Bowling Avg', data = AshesBowling);"
   ]
  },
  {
   "cell_type": "code",
   "execution_count": 85,
   "metadata": {
    "slideshow": {
     "slide_type": "slide"
    }
   },
   "outputs": [
    {
     "data": {
      "text/plain": [
       "<seaborn.axisgrid.FacetGrid at 0x1765bab4908>"
      ]
     },
     "execution_count": 85,
     "metadata": {},
     "output_type": "execute_result"
    },
    {
     "data": {
      "image/png": "[encoded data removed]",
      "text/plain": [
       "<Figure size 442.6x360 with 1 Axes>"
      ]
     },
     "metadata": {},
     "output_type": "display_data"
    }
   ],
   "source": [
    "g = sns.catplot(x=\"Economy Rate\", y=\"Wickets Taken\", hue=\"Country\", data=AshesBowling, kind=\"bar\", palette=\"muted\")\n",
    "g.despine(left=True)\n",
    "g.set_ylabels(\"Wickets Taken\")"
   ]
  },
  {
   "cell_type": "code",
   "execution_count": 70,
   "metadata": {
    "slideshow": {
     "slide_type": "skip"
    }
   },
   "outputs": [
    {
     "data": {
      "text/plain": [
       "Player                          AJ Stewart (1990-2003)APE Knott (1967-1981)MJ ...\n",
       "Innings Fielded                                                             93423\n",
       "Fielding Dismissals Made                                                    43045\n",
       "Catches Taken                                                               41595\n",
       "Stumpings Made                                                               1450\n",
       "Catches As A Keeper                                                         12271\n",
       "Catches As A Fielder                                                        29324\n",
       "Max Dismissals In An Innings    6 (6ct 0st)5 (4ct 1st)6 (6ct 0st)4 (4ct 0st)3 ...\n",
       "Dismissals Per Innings                                                    1131.91\n",
       "dtype: object"
      ]
     },
     "execution_count": 70,
     "metadata": {},
     "output_type": "execute_result"
    }
   ],
   "source": [
    "TestFielding[\"Fielding Dismissals Made\"]=pd.to_numeric(TestFielding[\"Fielding Dismissals Made\"], errors = 'coerce')\n",
    "TestFielding[\"Catches Taken\"]=pd.to_numeric(TestFielding[\"Catches Taken\"], errors = 'coerce')\n",
    "totalAusF = TestFielding.sum(axis = 0, skipna = True)\n",
    "totalAusF"
   ]
  },
  {
   "cell_type": "code",
   "execution_count": 86,
   "metadata": {
    "slideshow": {
     "slide_type": "slide"
    }
   },
   "outputs": [
    {
     "data": {
      "image/png": "[encoded data removed]",
      "text/plain": [
       "<Figure size 1440x720 with 1 Axes>"
      ]
     },
     "metadata": {},
     "output_type": "display_data"
    }
   ],
   "source": [
    "sns.set()\n",
    "sns.scatterplot('Catches Taken', 'Innings Fielded', size = \"Innings Fielded\", hue=\"Country\", sizes=(40, 400), alpha=0.99, palette=\"muted\", data = AshesFielding);"
   ]
  },
  {
   "cell_type": "code",
   "execution_count": null,
   "metadata": {
    "slideshow": {
     "slide_type": "slide"
    }
   },
   "outputs": [],
   "source": [
    "But can all this data prove that one team WILL win?"
   ]
  },
  {
   "cell_type": "code",
   "execution_count": 107,
   "metadata": {
    "slideshow": {
     "slide_type": "notes"
    }
   },
   "outputs": [
    {
     "name": "stdout",
     "output_type": "stream",
     "text": [
      "NOTES:\n",
      "However you must account for that the data only goes up to the start of 2019 and some of the players have not played a test.\n",
      "After the start of the next test, James Anderson and Steve Smith will not be playin\n",
      "Venue is not accounted for as playing in your home ground the team has the advantage. Australia hasn't won an Ashes in England for 18 years\n",
      "Although it isnt possible to completely predict winners in sports, by getting an understanding of the statistics it can give you a better idea\n"
     ]
    }
   ],
   "source": [
    "print(\"NOTES:\")\n",
    "print(\"However you must account for that the data only goes up to the start of 2019 and some of the players have not played a test.\")\n",
    "print(\"After the start of the next test, James Anderson and Steve Smith will not be playin\")\n",
    "print(\"Venue is not accounted for as playing in your home ground the team has the advantage. Australia hasn't won an Ashes in England for 18 years\")\n",
    "print(\"Although it isnt possible to completely predict winners in sports, by getting an understanding of the statistics it can give you a better idea\")\n"
   ]
  }
 ],
 "metadata": {
  "celltoolbar": "Slideshow",
  "kernelspec": {
   "display_name": "Python 3",
   "language": "python",
   "name": "python3"
  },
  "language_info": {
   "codemirror_mode": {
    "name": "ipython",
    "version": 3
   },
   "file_extension": ".py",
   "mimetype": "text/x-python",
   "name": "python",
   "nbconvert_exporter": "python",
   "pygments_lexer": "ipython3",
   "version": "3.7.3"
  }
 },
 "nbformat": 4,
 "nbformat_minor": 2
}
